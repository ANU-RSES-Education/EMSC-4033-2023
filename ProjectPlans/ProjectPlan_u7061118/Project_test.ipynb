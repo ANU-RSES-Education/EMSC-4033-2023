{
 "cells": [
  {
   "cell_type": "markdown",
   "id": "34c4b0f2-dfe8-47d3-9494-aa71d1b54eda",
   "metadata": {},
   "source": [
    "# Validation and Test Functions of `PDEsolver`"
   ]
  },
  {
   "cell_type": "code",
   "execution_count": 1,
   "id": "2b3ade4d-a71e-4117-92b7-3d3fc7a76766",
   "metadata": {},
   "outputs": [],
   "source": [
    "# Import all necessary modules\n",
    "import PDEsolver as pde\n",
    "import numpy as np\n",
    "from scipy.integrate import solve_ivp"
   ]
  },
  {
   "cell_type": "markdown",
   "id": "77f1fbec-6c16-4a06-a259-ed1352eeee38",
   "metadata": {},
   "source": [
    "## Validations - examples of invalid input (exception handling)"
   ]
  },
  {
   "cell_type": "code",
   "execution_count": 2,
   "id": "efe8ee79-3460-4296-91a8-bff42b226352",
   "metadata": {},
   "outputs": [
    {
     "name": "stdout",
     "output_type": "stream",
     "text": [
      "Value Error: `tmax` and `dt` must be numeric values greater than 0.\n"
     ]
    }
   ],
   "source": [
    "t = pde.time_domain(-10,0.1)"
   ]
  },
  {
   "cell_type": "code",
   "execution_count": 3,
   "id": "f7c65c0a-6e05-4c8a-8b66-bd2cfc8960b4",
   "metadata": {},
   "outputs": [
    {
     "name": "stdout",
     "output_type": "stream",
     "text": [
      "Value Error: `tmax` and `dt` must be numeric values greater than 0.\n"
     ]
    }
   ],
   "source": [
    "t = pde.time_domain('a',10)"
   ]
  },
  {
   "cell_type": "code",
   "execution_count": 4,
   "id": "141f782d-181d-49b3-873b-2c4d8e9d0edf",
   "metadata": {},
   "outputs": [
    {
     "name": "stdout",
     "output_type": "stream",
     "text": [
      "Value Error: `dt` must be greater than or equal to `tmax`.\n"
     ]
    }
   ],
   "source": [
    "t = pde.time_domain(10,11)"
   ]
  },
  {
   "cell_type": "code",
   "execution_count": 5,
   "id": "70fb47de-355d-4705-9336-45724fb3cb45",
   "metadata": {},
   "outputs": [
    {
     "name": "stdout",
     "output_type": "stream",
     "text": [
      "Value Error: `length` and `num_of_points` must be numeric values greater than 0.\n"
     ]
    }
   ],
   "source": [
    "grid = pde.create_grid(-10,128)"
   ]
  },
  {
   "cell_type": "code",
   "execution_count": 6,
   "id": "31e448cc-ae3b-4f35-9fab-ffe3f549be40",
   "metadata": {},
   "outputs": [
    {
     "name": "stdout",
     "output_type": "stream",
     "text": [
      "Value Error: `length` and `num_of_points` must be numeric values greater than 0.\n"
     ]
    }
   ],
   "source": [
    "grid = pde.create_grid('a','b')"
   ]
  },
  {
   "cell_type": "code",
   "execution_count": 7,
   "id": "bf3e6f04-51c3-4c30-a0b8-4f975af941ab",
   "metadata": {},
   "outputs": [
    {
     "name": "stdout",
     "output_type": "stream",
     "text": [
      "Value Error: `order` must be a numeric value greater than or equal to 0.\n"
     ]
    }
   ],
   "source": [
    "g = pde.create_grid(10,128)\n",
    "f = np.exp(g.x)\n",
    "der = pde.derivative(g,f,-2)"
   ]
  },
  {
   "cell_type": "code",
   "execution_count": 8,
   "id": "51854ea0-3f6d-44af-b5d0-8df68a635d23",
   "metadata": {},
   "outputs": [
    {
     "name": "stdout",
     "output_type": "stream",
     "text": [
      "Sorry, there is something wrong with the parameter value or initial condition selection.\n"
     ]
    }
   ],
   "source": [
    "t_bur = pde.time_domain(10,0.1)\n",
    "grid_bur = pde.create_grid(32,512)\n",
    "x_bur = grid_bur.x\n",
    "D_bur = 0.01                        # Extreme choice of diffusivity\n",
    "u0_bur = -np.sin(2*np.pi*x_bur/32)\n",
    "u_bur = solve_ivp(pde.burger_eq,[t_bur[0],t_bur[-1]],u0_bur,args=(grid_bur,D_bur),t_eval = t_bur,method = 'DOP853')\n",
    "pde.plot_anim(t_bur,grid_bur,u0_bur,u_bur)  # Exception handling of the plotting function plot_anim()"
   ]
  },
  {
   "cell_type": "markdown",
   "id": "b8cc25bc-a1a7-4f84-85bb-0dce165f7da5",
   "metadata": {},
   "source": [
    "## Tests"
   ]
  },
  {
   "cell_type": "code",
   "execution_count": 9,
   "id": "b3f2f7ed-71af-4c16-bda1-833a5a842c4c",
   "metadata": {},
   "outputs": [],
   "source": [
    "# Test function for the class create_grid()\n",
    "def test_grid(tol):\n",
    "    '''\n",
    "    Test using x = [-2pi,-3pi/2,-pi,-pi/2,0,pi/2,pi,3pi/2]\n",
    "    True wavenum = [0,0.5,1,1.5,-2,-1.5,-1,-0.5]\n",
    "    '''\n",
    "    l = 4*np.pi\n",
    "    n = 8\n",
    "    grid = pde.create_grid(l,n)\n",
    "    \n",
    "    true_x = np.array([-2*np.pi,-3*np.pi/2,-np.pi,-np.pi/2,0,np.pi/2,np.pi,3*np.pi/2])\n",
    "    calc_x = grid.x\n",
    "    test_phys_domain = np.abs(true_x - calc_x).mean() < tol\n",
    "    \n",
    "    true_wavenum = 2*np.pi*np.array([0,1,2,3,-4,-3,-2,-1])/(8*np.pi/2)\n",
    "    calc_wavenum = grid.wavenum\n",
    "    test_four_domain = np.abs(true_wavenum - calc_wavenum).mean() < tol\n",
    "    \n",
    "    return (test_phys_domain and test_four_domain).all()\n",
    "\n",
    "t = 1e-12\n",
    "assert test_grid(t)"
   ]
  },
  {
   "cell_type": "code",
   "execution_count": 10,
   "id": "67f910f1-f804-4d1b-b5e4-176342eb857d",
   "metadata": {},
   "outputs": [],
   "source": [
    "# Test functions for the function derivative()\n",
    "def test_derivative(tol):\n",
    "    '''\n",
    "    Test using f = sin(2x) for x in -2pi to 2pi, find the second derivative\n",
    "    True answer = -4sin(2x), which is -4*f\n",
    "    '''\n",
    "    grid = pde.create_grid(4*np.pi,100)\n",
    "    x = grid.x\n",
    "    f = np.sin(2*x)\n",
    "    true_df = -4*f\n",
    "    calc_df = pde.derivative(grid,f,2)    \n",
    "    return np.abs(calc_df - true_df).mean() < tol\n",
    "\n",
    "t = 1e-12\n",
    "assert test_derivative(t)"
   ]
  },
  {
   "cell_type": "code",
   "execution_count": 11,
   "id": "287e583f-27d0-4be5-9715-b8a6efb78ea4",
   "metadata": {},
   "outputs": [],
   "source": [
    "# Test functions for solving the PDEs with Gussian initial condition\n",
    "def gaussian_solution(t, x, σ, D): \n",
    "    '''\n",
    "    This is a function that returns the Gaussian solution at time = t, domain = x, initial width of the curve = σ, and diffusivity = D.\n",
    "    '''\n",
    "    return σ / np.sqrt(σ**2 + 2*D*t) * np.exp(-x**2 / (2*(σ**2 + 2*D*t)))\n",
    "\n",
    "def analytical_sol(x,t,D,v):\n",
    "    '''\n",
    "    This function returns a numpy array that contains the analytical solution of the Gaussian function with advection and diffusion based on the advection-diffusion equation. \n",
    "    The dimension of the matrix is len(x) * len(t), which means each column of the matrix is the solution at time = t.\n",
    "    '''\n",
    "    analytical_sol = np.zeros((len(x),len(t)))\n",
    "    for i in range(len(t)):\n",
    "        analytical_sol[:,i] = gaussian_solution(t[i],x - v*t[i],0.8,D)\n",
    "    return analytical_sol"
   ]
  },
  {
   "cell_type": "code",
   "execution_count": 12,
   "id": "4115c4f0-9c1e-4d99-8544-42c1d4e3a805",
   "metadata": {},
   "outputs": [
    {
     "name": "stdout",
     "output_type": "stream",
     "text": [
      "Absolute mean error in the final state equals to 1.8009414754093208e-07.\n",
      "Absolute mean error in the final state equals to 4.99171905140956e-08.\n",
      "All tests passsed.\n"
     ]
    }
   ],
   "source": [
    "# Test functions for solving the PDEs with Gussian initial condition\n",
    "def test_solve_dudt(D,v,tol):\n",
    "    '''\n",
    "    Use the Gaussian Equation to test the solutions by comparing the analytical solution with the numerical solution.\n",
    "    Absolute mean error between the final states of both analytical and numerical solutions are calculated.\n",
    "    '''\n",
    "    grid = pde.create_grid(10*np.pi,512)\n",
    "    x = grid.x\n",
    "    t = pde.time_domain(1,0.025)    # Time domain\n",
    "    \n",
    "    u0 = gaussian_solution(t[0],x,0.8,D)\n",
    "\n",
    "    \n",
    "    # Numerical solution for advection equation\n",
    "    numerical_sol  = solve_ivp(pde.adv_diff_eq,[t[0],t[-1]],u0,args=(grid,D,v),t_eval=t,method='DOP853')\n",
    "    numerical_sol_f = numerical_sol.y[:,-1]\n",
    "    \n",
    "    # Analytical solution for advection equation: u(x,t) = ui(x - v*t)\n",
    "    ana_sol = analytical_sol(x,t,D,v)\n",
    "    analytical_sol_f = ana_sol[:,-1]\n",
    "\n",
    "    # # If you wanted to plot the final stages of the numerical and analytical solutions, please remove the # below.\n",
    "    # plt.plot(x,numerical_sol_f, label='Numerical solution')\n",
    "    # plt.plot(x,analytical_sol_f, label='Analytical solution')\n",
    "    # plt.plot(x,numerical_sol_f - analytical_sol_f,label='error')\n",
    "    # plt.legend()\n",
    "    # plt.show()\n",
    "    \n",
    "    mean_error = np.mean(np.abs(numerical_sol_f - analytical_sol_f))\n",
    "    \n",
    "    print('Absolute mean error in the final state equals to {}.'.format(mean_error))\n",
    "    \n",
    "    return mean_error < tol\n",
    "\n",
    "t = 1e-6\n",
    "# Case 1: Constant advection only, no diffusion\n",
    "assert test_solve_dudt(0,4,t)\n",
    "# Case 2: Constant diffusion only, no advection\n",
    "assert test_solve_dudt(4,0,t)\n",
    "print('All tests passsed.')"
   ]
  }
 ],
 "metadata": {
  "kernelspec": {
   "display_name": "Python 3 (ipykernel)",
   "language": "python",
   "name": "python3"
  },
  "language_info": {
   "codemirror_mode": {
    "name": "ipython",
    "version": 3
   },
   "file_extension": ".py",
   "mimetype": "text/x-python",
   "name": "python",
   "nbconvert_exporter": "python",
   "pygments_lexer": "ipython3",
   "version": "3.9.16"
  }
 },
 "nbformat": 4,
 "nbformat_minor": 5
}
