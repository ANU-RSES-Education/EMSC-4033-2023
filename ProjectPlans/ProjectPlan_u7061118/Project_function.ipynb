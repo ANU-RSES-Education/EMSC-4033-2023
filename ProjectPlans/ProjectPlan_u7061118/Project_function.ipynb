{
 "cells": [
  {
   "cell_type": "markdown",
   "id": "34c4b0f2-dfe8-47d3-9494-aa71d1b54eda",
   "metadata": {},
   "source": [
    "# Code for Functions"
   ]
  },
  {
   "cell_type": "markdown",
   "id": "ac221b01-e8d7-482a-9a3c-f6f0185584ab",
   "metadata": {},
   "source": [
    "The project aims to use the **pseudo-spectral method** to solve the 1-dimensional **Advection-Diffusion equation**:\n",
    "\n",
    "<font size= \"3\">$$\\frac{\\partial u}{\\partial t} = D\\frac{\\partial^2 u}{\\partial x^2} - v\\frac{\\partial u}{\\partial x}$$</font>\n",
    "\n",
    "where $u(x,t)$ is the quantity being transported, $t$ is time, $x$ is the spatial coordinate along the one-dimensional domain, $D$ is the diffusion coefficient, and $v$ is the velocity of the flow. "
   ]
  },
  {
   "cell_type": "markdown",
   "id": "72fda896-5920-4a22-8c27-8409a030bd9f",
   "metadata": {},
   "source": [
    "### Import all necessary modules"
   ]
  },
  {
   "cell_type": "code",
   "execution_count": 1,
   "id": "2b3ade4d-a71e-4117-92b7-3d3fc7a76766",
   "metadata": {},
   "outputs": [],
   "source": [
    "import numpy as np\n",
    "import scipy.integrate as integrate\n",
    "import matplotlib.pyplot as plt\n",
    "from matplotlib import animation\n",
    "from IPython.display import HTML\n",
    "from matplotlib import cm"
   ]
  },
  {
   "cell_type": "markdown",
   "id": "4ec692be-8b61-4030-93c6-d31e36d1d30c",
   "metadata": {},
   "source": [
    "## Functions for solving the PDE"
   ]
  },
  {
   "cell_type": "code",
   "execution_count": 6,
   "id": "fdb4d5c3-80ed-47f0-b7aa-c14808319b56",
   "metadata": {},
   "outputs": [],
   "source": [
    "# Temporal Domain\n",
    "def time_domain(tmax,dt):\n",
    "    '''\n",
    "    This is the function used to define the time domain.\n",
    "    tmax is the total time.\n",
    "    dt is the time step.\n",
    "    '''\n",
    "    t = np.arange(0,tmax,dt)\n",
    "    return t"
   ]
  },
  {
   "cell_type": "code",
   "execution_count": 2,
   "id": "8e57ed6f-4eda-4783-be37-98d656bc014e",
   "metadata": {},
   "outputs": [],
   "source": [
    "# Spatial Domain\n",
    "class create_grid:\n",
    "    '''\n",
    "    This is a class that creates the spatial grid of the PDE.\n",
    "    This class will store two numpy arrays: the physical grid `x` and the Fourier grid `wavenumber`. \n",
    "    The two grids will be calculated once the class is called, and there will be no repeated calculation in later computations.\n",
    "    '''\n",
    "    def __init__(self, length, num_of_points):\n",
    "        self.length = length\n",
    "        self.num_of_points = num_of_points\n",
    "    \n",
    "        def create_x(self):\n",
    "            '''\n",
    "            This is the function to find the physical domain x.\n",
    "            The input is the length of the physical domain and the number of discretisation points.\n",
    "            the physical domain is centred at 0.\n",
    "            '''\n",
    "            dx = self.length/self.num_of_points             # step in the physical domain x\n",
    "            x = np.arange(-self.length/2,self.length/2,dx)  # x is the numpy array that begin at -Length/2 and end at Length/2 - dx\n",
    "            return x\n",
    "\n",
    "        def create_wavenum(self):\n",
    "            '''\n",
    "            This is the function to find the Fourier domain, discrete wavenumber domain, of a given physical domain x.\n",
    "            The output is the Fourier wavenumber domain, a numpy array, kappa.\n",
    "            '''\n",
    "            dx = self.length/self.num_of_points             # step in the physical domain x\n",
    "            kappa = 2*np.pi*np.fft.fftfreq(self.num_of_points,d=dx)\n",
    "            return kappa\n",
    "\n",
    "        self.x = create_x(self)\n",
    "        self.wavenum = create_wavenum(self)\n",
    "        return\n",
    "\n",
    "def test_grid(tol):\n",
    "    # Test using x = [-2pi,-3pi/2,-pi,-pi/2,0,pi/2,pi,3pi/2]\n",
    "    l = 4*np.pi\n",
    "    n = 8\n",
    "    grid = create_grid(l,n)\n",
    "    \n",
    "    true_x = np.array([-2*np.pi,-3*np.pi/2,-np.pi,-np.pi/2,0,np.pi/2,np.pi,3*np.pi/2])\n",
    "    calc_x = grid.x\n",
    "    test_phys_domain = sum(np.abs(true_x - calc_x)) < tol\n",
    "    \n",
    "    true_wavenum = 2*np.pi*np.array([0,1,2,3,-4,-3,-2,-1])/(8*np.pi/2)\n",
    "    calc_wavenum = grid.wavenum\n",
    "    test_four_domain = sum(np.abs(true_wavenum - calc_wavenum)) < tol\n",
    "    \n",
    "    return (test_phys_domain and test_four_domain).all()\n",
    "\n",
    "t = 1e-12\n",
    "assert test_grid(t)"
   ]
  },
  {
   "cell_type": "code",
   "execution_count": 3,
   "id": "578a7586-fb55-458d-90f2-f4154a12b42f",
   "metadata": {},
   "outputs": [],
   "source": [
    "# Derivative calculation using the pseudo-spectral method\n",
    "def derivative(grid, f, order):\n",
    "    '''\n",
    "    This is the function for finding the derivative of a function f with domain x, using the pseudo-spectral method. \n",
    "    The function f is being transformed to the Fourier basis and then calculate the derivative by multiplying i*wave number.\n",
    "    The order of derivative can be defined at the beginning as an input.\n",
    "    The output is the given order derivative in the physical domain.\n",
    "    '''\n",
    "    κ = grid.wavenum                          # wavenumber domain for the function f\n",
    "    fhat = np.fft.fft(f)                      # Fourier tranform of f\n",
    "    d_ord_fhat = ((1j*κ)**order)*fhat         # the 'order'th derivative of fhat \n",
    "    d_ord_f = np.fft.ifft(d_ord_fhat).real    # the 'order'th derivative of f\n",
    "      \n",
    "    return d_ord_f\n",
    "\n",
    "def test_derivative(tol):\n",
    "    # Test using f = sin(2x) for x in -2pi to 2pi\n",
    "    grid = create_grid(4*np.pi,100)\n",
    "    x = grid.x\n",
    "    f = np.sin(2*x)\n",
    "    true_df = -4*f\n",
    "    calc_df = derivative(grid,f,2)\n",
    "    return sum(np.abs(calc_df - true_df)) < tol\n",
    "\n",
    "t = 1e-10\n",
    "assert test_derivative(t)"
   ]
  },
  {
   "cell_type": "code",
   "execution_count": 8,
   "id": "b5e83906-6c09-4c7b-b36b-a35877caa2d5",
   "metadata": {},
   "outputs": [],
   "source": [
    "def adv_diff_eq(t,u,grid,D,v):\n",
    "    '''\n",
    "    This function is for deriving the advection diffusion equation with rhs fully solved.\n",
    "    This function will be implemented in the later integration function.\n",
    "    t is the temporal domain, which should take the form t = time_domain(tmax,dt).\n",
    "    grid is the grid of spatial domain, containing the physical domain and fourier domain.\n",
    "    D is the diffusion coefficient.\n",
    "    v is the advection velocity.\n",
    "    '''\n",
    "    d_u = derivative(grid,u,1)\n",
    "    dd_u = derivative(grid,u,2)\n",
    "    \n",
    "    du_dt = D*dd_u - v*d_u\n",
    "    return du_dt"
   ]
  },
  {
   "cell_type": "code",
   "execution_count": 9,
   "id": "dcfa6d50-2663-4458-930f-1af6b829ef82",
   "metadata": {},
   "outputs": [],
   "source": [
    "def burger_eq(t,u,grid,D):\n",
    "    '''\n",
    "    This function is for deriving the burger's equation with rhs fully solved.\n",
    "    t is the temporal domain, which should take the form t = time_domain(tmax,dt).\n",
    "    grid is the grid of spatial domain, containing the physical domain and fourier domain.\n",
    "    D is the diffusion coefficient.\n",
    "    '''\n",
    "    d_u = derivative(grid,u,1)\n",
    "    dd_u = derivative(grid,u,2)\n",
    "    \n",
    "    du_dt = D*dd_u - u*d_u\n",
    "    return du_dt"
   ]
  },
  {
   "cell_type": "markdown",
   "id": "1ad41b2f-78b1-434b-b382-87881bb2d834",
   "metadata": {},
   "source": [
    "In previous steps, we tried to use the pseudo-spectral method to find the derivatives with respect to x on the right-hand-side of the PDEs. At the end of the last step, we have successfully changed the PDE into an ODE with respect to time, so that the function looks like $\\frac{d}{dt}u(x,t) = g(u(x,t)) $. Now, the final step of solving the PDE uses the `scipy.integrate` function `integrate.solve_ivp`. This function find the integration of an ode using the DOP853 algorithm. "
   ]
  },
  {
   "cell_type": "code",
   "execution_count": 16,
   "id": "4115c4f0-9c1e-4d99-8544-42c1d4e3a805",
   "metadata": {},
   "outputs": [],
   "source": [
    "def gaussian_solution(t, x, σ, D): # σ is the width of the Gaussian curve initially\n",
    "    return σ / np.sqrt(σ**2 + 2*D*t) * np.exp(-x**2 / (2*(σ**2 + 2*D*t)))\n",
    "\n",
    "def analytical_sol(x,t,D,v):\n",
    "    analytical_sol = np.zeros((len(x),len(t)))\n",
    "    for i in range(len(t)):\n",
    "        analytical_sol[:,i] = gaussian_solution(t[i],x - v*t[i],0.8,D)\n",
    "    return analytical_sol\n",
    "\n",
    "def test_solve_dudt(D,v,tol):\n",
    "    # Use the Gaussian Equation to test the solutions\n",
    "    grid = create_grid(10*np.pi,512)\n",
    "    x = grid.x\n",
    "    t = time_domain(1,0.025)    # Time domain\n",
    "    \n",
    "    u0 = gaussian_solution(t[0],x,0.8,D)\n",
    "\n",
    "    \n",
    "    # Numerical solution for advection equation\n",
    "    numerical_sol  = integrate.solve_ivp(adv_diff_eq,[t[0],t[-1]],u0,args=(grid,D,v),t_eval=t,method='DOP853')\n",
    "    numerical_sol_f = numerical_sol.y[:,-1]\n",
    "    \n",
    "    # Analytical solution for advection equation: u(x,t) = ui(x - v*t)\n",
    "    ana_sol = analytical_sol(x,t,D,v)\n",
    "    analytical_sol_f = ana_sol[:,-1]\n",
    "\n",
    "    # # If you want to plot the final stages of the numerical and analytical solutions\n",
    "    # plt.plot(x,numerical_sol_f, label='Numerical solution')\n",
    "    # plt.plot(x,analytical_sol_f, label='Analytical solution')\n",
    "    # plt.plot(x,numerical_sol_f - analytical_sol_f,label='error')\n",
    "    # plt.legend()\n",
    "    # plt.show()\n",
    "    \n",
    "    mean_error = np.mean(np.abs(numerical_sol_f - analytical_sol_f))\n",
    "    return mean_error < tol\n",
    "\n",
    "t = 1e-6\n",
    "# Case 1: Constant advection only, no diffusion\n",
    "assert test_solve_dudt(0,4,t)\n",
    "# Case 2: Constant diffusion only, no advection\n",
    "assert test_solve_dudt(4,0,t)"
   ]
  },
  {
   "cell_type": "code",
   "execution_count": 4,
   "id": "bb2ae845-5ade-45e5-a213-71ef6db907c7",
   "metadata": {},
   "outputs": [],
   "source": [
    "# Set up plotting\n",
    "def plot_anim(t,grid,u0,u):\n",
    "    '''\n",
    "    This function is used to plot the stationary plot and animation of the wave.\n",
    "    The first subplot shows the initial state and the final state of the function.\n",
    "    The second subplot shows the movement of the wave with time. \n",
    "    '''\n",
    "    x = grid.x\n",
    "    fig, (ax1, ax2) = plt.subplots(nrows=1, ncols=2, figsize=(12, 4))\n",
    "    \n",
    "    ax1.plot(x,u0,label='u at t = 0')\n",
    "    ax1.plot(x,u.y[:,-1],label='u at t = $t_{final}$')\n",
    "    ax1.set_title('Stationary plot for $u(x,t)$')\n",
    "    ax1.set_xlabel('x')\n",
    "    ax1.set_ylabel('u')\n",
    "    ax1.legend(fontsize=12)\n",
    "\n",
    "    line, = ax2.plot([],[],lw=3)\n",
    "    ax2.set_xlim((x[0],x[-1]))\n",
    "    ax2.set_ylim((np.min(u.y),np.max(u.y)))\n",
    "    ax2.set_title('t = {:.3f}'.format(t[0])) \n",
    "\n",
    "    def plot_frame(i):\n",
    "        line.set_data(x,u.y[:,i])\n",
    "        ax2.set_title('t = {:.3f}'.format(t[i]))\n",
    "        fig.canvas.draw()\n",
    "        return line,\n",
    "\n",
    "    # Animate the solution\n",
    "    anim = animation.FuncAnimation(fig, plot_frame,frames=len(t),interval=80,repeat=False,blit=True)\n",
    "    plt.close()\n",
    "    \n",
    "    return HTML(anim.to_jshtml())"
   ]
  },
  {
   "cell_type": "markdown",
   "id": "c9b8e95f-0074-43ee-b64b-f4bb92e4f46b",
   "metadata": {},
   "source": [
    "## Validation and Comparison\n",
    "We will test how error change with the choice of x using the Advection-diffusion equation with initial condition equals to the Gaussian function. Error is being calculated as the mean error at $t_{final}$. Three cases being tested are the advection only ($v = 0.5$), diffusion only ($D = 0.5$), and both advection and diffusion ($v = 0.5, D = 0.5$)."
   ]
  },
  {
   "cell_type": "code",
   "execution_count": 17,
   "id": "5404cb36-6b5b-4f7b-b261-aa0756287e47",
   "metadata": {},
   "outputs": [],
   "source": [
    "def error(num_v,D,v):\n",
    "    error_array = []\n",
    "    t = time_domain(10,0.1)\n",
    "    \n",
    "    for i in range(1,num_v):\n",
    "        grid_v = create_grid(10*np.pi,2**i)\n",
    "        x_v = grid_v.x\n",
    "        u0_v = gaussian_solution(0,x_v,0.8,0)\n",
    "        numerical_sol = integrate.solve_ivp(adv_diff_eq,[t[0],t[-1]],u0_v,args=(grid_v,D,v),t_eval=t,method='DOP853')\n",
    "\n",
    "        numerical_f = numerical_sol.y[:,-1]\n",
    "        analytical_f = analytical_sol(x_v,t,D,v)[:,-1]\n",
    "    \n",
    "        mean_error = np.abs(numerical_f - analytical_f).mean()\n",
    "        error_array.append(mean_error)\n",
    "    \n",
    "    return error_array"
   ]
  },
  {
   "cell_type": "code",
   "execution_count": 18,
   "id": "646a8c34-fb16-4390-945b-24f51f6f3334",
   "metadata": {},
   "outputs": [],
   "source": [
    "error_do = error(11,0.5,0.0)\n",
    "error_ao = error(11,0.0,0.5)\n",
    "error_both = error(11,0.5,0.5)"
   ]
  },
  {
   "cell_type": "code",
   "execution_count": 19,
   "id": "4f8d326c-ffc7-402d-9021-f6fd91c6a7cc",
   "metadata": {},
   "outputs": [
    {
     "data": {
      "image/png": "[encoded data removed]",
      "text/plain": [
       "<Figure size 576x432 with 1 Axes>"
      ]
     },
     "metadata": {
      "needs_background": "light"
     },
     "output_type": "display_data"
    }
   ],
   "source": [
    "plt.figure(figsize = (8,6))\n",
    "plt.plot(2**np.arange(1,11),error_do,label='Advection Only')\n",
    "plt.plot(2**np.arange(1,11),error_ao,label='Diffusion Only')\n",
    "plt.plot(2**np.arange(1,11),error_both,label='Advection and Diffusion')\n",
    "plt.xscale('log',base=2)\n",
    "plt.yscale('log')\n",
    "plt.title('Error changes with grid resolution')\n",
    "plt.xlabel('Number of Points in x')\n",
    "plt.ylabel('Error')\n",
    "plt.legend()\n",
    "plt.show()"
   ]
  },
  {
   "cell_type": "markdown",
   "id": "a7f1af91-05d8-410c-9c3d-a32affa64729",
   "metadata": {},
   "source": [
    "We found that the error generally become small enough and stable at around $2^6$ points, which is 64 points in x. This suggests that solutions generally converge quickly in terms of grid resolution, and using a small number of points can find a relatively accurate answer using the pseudo-spectral method."
   ]
  },
  {
   "cell_type": "code",
   "execution_count": null,
   "id": "d5b63483-e05c-4ce0-8cd8-9c9be401a460",
   "metadata": {},
   "outputs": [],
   "source": []
  }
 ],
 "metadata": {
  "kernelspec": {
   "display_name": "Python 3 (ipykernel)",
   "language": "python",
   "name": "python3"
  },
  "language_info": {
   "codemirror_mode": {
    "name": "ipython",
    "version": 3
   },
   "file_extension": ".py",
   "mimetype": "text/x-python",
   "name": "python",
   "nbconvert_exporter": "python",
   "pygments_lexer": "ipython3",
   "version": "3.9.16"
  }
 },
 "nbformat": 4,
 "nbformat_minor": 5
}
